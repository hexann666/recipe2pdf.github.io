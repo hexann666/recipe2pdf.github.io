{
 "cells": [
  {
   "cell_type": "code",
   "execution_count": null,
   "metadata": {},
   "outputs": [],
   "source": [
    "def replace_all(filedata, to_replace_dict):\n",
    "    \n",
    "    \"\"\"function replaces in the chosen file all strings from keys with strings from respective values\n",
    "\n",
    "    filedata - file, where replacement is needed\n",
    "    to_replace_dict - a dictionary, keys are the strings to replace, values - the desired outcome\"\"\"\n",
    "\n",
    "    for key, value in to_replace_dict.items():\n",
    "        filedata = filedata.replace(key, value)\n",
    "    return filedata\n",
    "\n",
    "# define all index.html files, that need to be corrected\n",
    "index_path = ['index.html',\n",
    "                'categories/index.html'\n",
    "                'page/index.html',\n",
    "                'page/page/1/index.html',\n",
    "                'page/about/index.html',\n",
    "                'post/my-first-post/index.html',\n",
    "                'post/summaries/index.html'\n",
    "                'requirements/index.html'\n",
    "                ]\n",
    "\n",
    "# define a dictionary with {wrong string: correct string}\n",
    "to_replace = {'http:': 'https:',\n",
    "            'github.iojs': 'github.io/js',\n",
    "            'github.iodist': 'github.io/dist'}\n",
    "\n",
    "# run through the list of index.html files and replace strings\n",
    "for path in index_path:\n",
    "    with open(path, 'r') as file :\n",
    "        filedata = file.read()\n",
    "    filedata = replace_all(filedata, to_replace)\n",
    "    with open(path, 'w') as file:\n",
    "        file.write(filedata)"
   ]
  }
 ],
 "metadata": {
  "language_info": {
   "name": "python"
  },
  "orig_nbformat": 4
 },
 "nbformat": 4,
 "nbformat_minor": 2
}
