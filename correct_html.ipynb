{
 "cells": [
  {
   "cell_type": "code",
   "execution_count": 2,
   "metadata": {},
   "outputs": [],
   "source": [
    "def replace_all(filedata, to_replace_dict):\n",
    "    \n",
    "    \"\"\"function replaces in the chosen file all strings from keys with strings from respective values\n",
    "\n",
    "    filedata - file, where replacement is needed\n",
    "    to_replace_dict - a dictionary, keys are the strings to replace, values - the desired outcome\"\"\"\n",
    "\n",
    "    for key, value in to_replace_dict.items():\n",
    "        filedata = filedata.replace(key, value)\n",
    "    return filedata\n",
    "\n",
    "# define all index.html files, that need to be corrected\n",
    "index_path = ['index.html',\n",
    "                'categories/index.html',\n",
    "                'page/index.html',\n",
    "                'page/page/1/index.html',\n",
    "                'page/about/index.html',\n",
    "                'requirements/index.html',\n",
    "                'post/my-first-post/index.html',\n",
    "                'post/page/1/index.html',\n",
    "                'post/summaries/index.html'\n",
    "                ]\n",
    "\n",
    "# define a dictionary with {wrong string: correct string}\n",
    "to_replace = {'http:': 'https:',\n",
    "            'github.iojs': 'github.io/js',\n",
    "            'github.iodist': 'github.io/dist'}\n",
    "\n",
    "# run through the list of index.html files and replace strings\n",
    "for path in index_path:\n",
    "    with open(path, 'r') as file :\n",
    "        filedata = file.read()\n",
    "    filedata = replace_all(filedata, to_replace)\n",
    "    with open(path, 'w') as file:\n",
    "        file.write(filedata)"
   ]
  }
 ],
 "metadata": {
  "interpreter": {
   "hash": "732353d8c7642473d8e734bee2a89f0938162f699c438dc9a11d7081b1712ce3"
  },
  "kernelspec": {
   "display_name": "Python 3.9.7 64-bit (system)",
   "language": "python",
   "name": "python3"
  },
  "language_info": {
   "codemirror_mode": {
    "name": "ipython",
    "version": 3
   },
   "file_extension": ".py",
   "mimetype": "text/x-python",
   "name": "python",
   "nbconvert_exporter": "python",
   "pygments_lexer": "ipython3",
   "version": "3.9.7"
  },
  "orig_nbformat": 4
 },
 "nbformat": 4,
 "nbformat_minor": 2
}
